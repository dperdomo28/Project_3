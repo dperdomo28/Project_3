{
 "cells": [
  {
   "cell_type": "code",
   "execution_count": 4,
   "metadata": {},
   "outputs": [
    {
     "name": "stdout",
     "output_type": "stream",
     "text": [
      "6156045\n"
     ]
    }
   ],
   "source": [
    "flights=open(\"/ufrc/zoo6927/share/Class_Files/data/flights.May2017-Apr2018.csv\")\n",
    "\n",
    "count=0\n",
    "for Line in flights:\n",
    "    count+=1\n",
    "print(count)\n",
    "\n",
    "flights.close()"
   ]
  },
  {
   "cell_type": "code",
   "execution_count": null,
   "metadata": {},
   "outputs": [],
   "source": []
  },
  {
   "cell_type": "code",
   "execution_count": 2,
   "metadata": {},
   "outputs": [],
   "source": [
    "from sqlalchemy import create_engine\n",
    "from sqlalchemy import Table, Column, Integer, String, MetaData, ForeignKey\n",
    "from sqlalchemy import DateTime, Boolean\n",
    "\n",
    "# Create a sqlite database \n",
    "engine = create_engine('sqlite:///flights_pj2.sqlite')\n",
    "\n",
    "metadata=MetaData()\n",
    "Airports = Table ('Airports', metadata,\n",
    "                Column('Code', String, primary_key=True),\n",
    "                Column('FL_DATE', DateTime),\n",
    "                Column('AIRLINE_ID', Integer, autoincrement=True),\n",
    "                Column('ORIGIN', String),\n",
    "                Column('ORIGIN_CITY_NAME', String),\n",
    "                Column('DEST', String),\n",
    "                Column('DEP_DEL15', Boolean),\n",
    "               )\n",
    "Airlines = Table ('Airlines', metadata,\n",
    "                 Column('AIRLINE_ID', Integer, ForeignKey(\"Airports.AIRLINE_ID\")),\n",
    "                 Column('DISTANCE', Integer),\n",
    "                 Column('ORIGIN_CITY_NAME', String),\n",
    "                 Column('DEST', String),\n",
    "                 )\n",
    "metadata.create_all(engine)"
   ]
  },
  {
   "cell_type": "code",
   "execution_count": null,
   "metadata": {},
   "outputs": [],
   "source": [
    "import csv\n",
    "flights=open(\"/ufrc/zoo6927/share/Class_Files/data/flights.May2017-Apr2018.csv\")\n",
    "\n",
    "reader = csv.DictReader(flights)\n",
    "for Line in reader:\n",
    "\n",
    "    ins=Airports.insert().values(FL_DATE=Line['FL_DATE'],AIRLINE_ID=Line['AIRLINE_ID'],\n",
    "                                ORIGIN=Line['ORIGIN'],ORIGIN_CITY_NAME=Line['ORIGIN_CITY_NAME'],DEST=Line['DEST'],\n",
    "                                DEP_DEL15 = Line['DEP_DEL15'])\n",
    "\n",
    "result = conn.execute(ins)"
   ]
  },
  {
   "cell_type": "code",
   "execution_count": null,
   "metadata": {},
   "outputs": [],
   "source": [
    "conn = engine.connect()\n",
    "ins = Airports.insert().values(Code='1',FL_DATE='')"
   ]
  },
  {
   "cell_type": "code",
   "execution_count": null,
   "metadata": {},
   "outputs": [],
   "source": []
  }
 ],
 "metadata": {
  "kernelspec": {
   "display_name": "Python 3",
   "language": "python",
   "name": "python3"
  },
  "language_info": {
   "codemirror_mode": {
    "name": "ipython",
    "version": 3
   },
   "file_extension": ".py",
   "mimetype": "text/x-python",
   "name": "python",
   "nbconvert_exporter": "python",
   "pygments_lexer": "ipython3",
   "version": "3.6.3"
  }
 },
 "nbformat": 4,
 "nbformat_minor": 2
}
