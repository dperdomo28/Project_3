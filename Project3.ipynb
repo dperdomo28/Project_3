{
 "cells": [
  {
   "cell_type": "markdown",
   "metadata": {},
   "source": [
    "# Project 3"
   ]
  },
  {
   "cell_type": "markdown",
   "metadata": {},
   "source": [
    "<b> Group members: </b>\n",
    "1.\tDianela Perdomo \n",
    "2.\tHendyel Pacheco\n",
    "3.\tLihe Liu\n",
    "4.\tPornpamol Pattamanont"
   ]
  },
  {
   "cell_type": "markdown",
   "metadata": {},
   "source": [
    "## Data:\n",
    "The data file for this problem set is here:\n",
    "```bash\n",
    "/ufrc/zoo6927/share/Class_Files/data/flights.May2017-Apr2018.csv \n",
    "```"
   ]
  },
  {
   "cell_type": "markdown",
   "metadata": {},
   "source": [
    "## Plan:\n",
    "\n",
    "1. Two tables we are going to create are:\n",
    "    * Delayed flights depart from GNV \n",
    "    * Distance of those flights with airlines \n",
    "2. The first table has 6 columns: \n",
    "    * FL_DATE /AIRLINE_ID (this will be the foreign key that we will add) / ORIGIN / ORIGIN_CITY_NAME / DEST / DEP_DEL15. \n",
    "    * The primary key in the first table is a number.\n",
    "3. The second table is ‘Airlines table’ which has:\n",
    "    * AIRLINE_ID / DISTANCE/ORIGIN_CITY_NAME / DEST.\n",
    "    * The key in this table is our foreign key in first table.\n",
    "4. We use 'join' function to link between these 2 tables; where to check GNV in table 2.\n",
    "5. We will analyze how many delayed flights each airline has, and organize from max to min.\n",
    "\n",
    "\n"
   ]
  },
  {
   "cell_type": "markdown",
   "metadata": {},
   "source": [
    "## Solution:"
   ]
  },
  {
   "cell_type": "markdown",
   "metadata": {},
   "source": [
    "<b> Create empty database: </b>"
   ]
  },
  {
   "cell_type": "code",
   "execution_count": 3,
   "metadata": {},
   "outputs": [],
   "source": [
    "from sqlalchemy import create_engine\n",
    "from sqlalchemy import Table, Column, Integer, String, MetaData, ForeignKey\n",
    "from sqlalchemy import DateTime, Boolean\n",
    "from sqlalchemy import exists\n",
    "from sqlalchemy import sql, select, join, desc\n",
    "\n",
    "# Create a sqlite database \n",
    "engine = create_engine('sqlite:///pj3_flights.sqlite')\n",
    "\n",
    "metadata = MetaData(engine)\n",
    "\n",
    "# Try to load Airports info from database, if not there, create it.\n",
    "try:\n",
    "    Airports=Table('Airports', metadata, autoload=True)\n",
    "except:\n",
    "    Airports = Table ('Airports', metadata,\n",
    "                Column('ID', Integer, autoincrement=True),\n",
    "                Column('Code', String, primary_key=True),\n",
    "                Column('City', String),\n",
    "                Column('State', String),\n",
    "                Column('Name', String),\n",
    "               )\n",
    "\n",
    "# Same for Flights table.\n",
    "try:\n",
    "    Flights=Table('Flights', metadata, autoload=True)\n",
    "except:\n",
    "    Flights = Table ('Flights', metadata,\n",
    "                 Column('Fl_date', DateTime),\n",
    "                 Column('Airline_ID', String),\n",
    "                 Column('Origin', String, ForeignKey(\"Airports.Code\")),\n",
    "                 Column('Destination', String, ForeignKey(\"Airports.Code\")),\n",
    "                 Column('Dep_Time', String),\n",
    "                 Column('Dep_Delay_New', Integer),\n",
    "                 Column('Arr_Time', String),\n",
    "                 Column('Arr_Delay_New', Integer),\n",
    "                 Column('Cancelled', Boolean),\n",
    "                 Column('Cancellation_Code', String),\n",
    "                 Column('Diverted', Boolean),\n",
    "                 Column('Air_Time', String),\n",
    "                 Column('Flights', Integer),\n",
    "                 Column('Distance', Integer),\n",
    "                 Column('Carrier_Delay', Integer),\n",
    "                 Column('Weather_Delay', Integer),\n",
    "                 Column('NAS_Delay', Integer),\n",
    "                 Column('Security_Delay', Integer),\n",
    "                 Column('Late_Aircraft_Delay', Integer)\n",
    "                )\n",
    " \n",
    "\n",
    "metadata.create_all(engine)\n"
   ]
  },
  {
   "cell_type": "markdown",
   "metadata": {},
   "source": [
    "<b> Put the Flights data into dataframe: </b>"
   ]
  },
  {
   "cell_type": "code",
   "execution_count": 29,
   "metadata": {},
   "outputs": [],
   "source": [
    "import datetime\n",
    "import pandas as pd\n",
    "import csv\n",
    "\n",
    "def to_date(dates, lookup=False, **args):\n",
    "    if lookup:\n",
    "        return dates.map({v: pd.to_datetime(v, **args) for v in dates.unique()})\n",
    "    return pd.to_datetime(dates, **args)\n",
    "\n",
    "conn = engine.connect()\n",
    "\n",
    "# Open to get flight data\n",
    "\n",
    "flights=open(\"/ufrc/zoo6927/share/Class_Files/data/flights.1K.csv\")\n",
    "\n",
    "reader = csv.DictReader(flights)\n",
    "\n",
    "for Line in reader:\n",
    "\n",
    "    ins=Flights.insert().values(Fl_date=to_date(Line['FL_DATE']),\n",
    "                                Airline_ID = Line['AIRLINE_ID'],\n",
    "                                Origin = Line['ORIGIN'],\n",
    "                                Destination = Line['DEST'],\n",
    "                                Dep_Time = Line['DEP_TIME'],\n",
    "                                Dep_Delay_New = Line['DEP_DELAY_NEW'],\n",
    "                                Arr_Time = Line['ARR_TIME'],\n",
    "                                Arr_Delay_New = Line['ARR_DELAY_NEW'],\n",
    "                                Cancelled = int(float((Line['CANCELLED']))),\n",
    "                                Cancellation_Code = Line['CANCELLATION_CODE'],\n",
    "                                Diverted = int(float((Line['DIVERTED']))),\n",
    "                                Air_Time = Line['AIR_TIME'],\n",
    "                                Flights = Line['FLIGHTS'],\n",
    "                                Distance = Line['DISTANCE'],\n",
    "                                Carrier_Delay = Line['CARRIER_DELAY'],\n",
    "                                Weather_Delay = Line['WEATHER_DELAY'],\n",
    "                                NAS_Delay = Line['NAS_DELAY'],\n",
    "                                Security_Delay = Line['SECURITY_DELAY'],\n",
    "                                Late_Aircraft_Delay = Line['LATE_AIRCRAFT_DELAY']\n",
    "                                          )\n",
    "    result = conn.execute(ins)"
   ]
  },
  {
   "cell_type": "markdown",
   "metadata": {},
   "source": [
    "## Select, Where and Join"
   ]
  },
  {
   "cell_type": "markdown",
   "metadata": {},
   "source": [
    "**Select all origin and destination pairs, limit = 10**\n"
   ]
  },
  {
   "cell_type": "code",
   "execution_count": 36,
   "metadata": {},
   "outputs": [
    {
     "name": "stdout",
     "output_type": "stream",
     "text": [
      "('LAX', 'IAD')\n",
      "('LAX', 'IAD')\n",
      "('SAN', 'SFO')\n",
      "('SFO', 'EWR')\n",
      "('JFK', 'SFO')\n",
      "('LAX', 'OGG')\n",
      "('OGG', 'LAX')\n",
      "('SFO', 'JFK')\n",
      "('LAX', 'EWR')\n",
      "('EWR', 'LAX')\n"
     ]
    }
   ],
   "source": [
    "from sqlalchemy import select\n",
    "\n",
    "query1 = select([Flights.c.Origin, Flights.c.Destination])\\\n",
    "        .limit(10)\n",
    "             \n",
    "result = conn.execute(query1)\n",
    "for row in result:\n",
    "    print(row)"
   ]
  },
  {
   "cell_type": "markdown",
   "metadata": {},
   "source": [
    "**Count the total number of flights delayed more than 15 minutes**"
   ]
  },
  {
   "cell_type": "code",
   "execution_count": 46,
   "metadata": {},
   "outputs": [
    {
     "name": "stdout",
     "output_type": "stream",
     "text": [
      "(247,)\n"
     ]
    }
   ],
   "source": [
    "from sqlalchemy import select\n",
    "from sqlalchemy.sql.expression import func\n",
    "\n",
    "#how to do count\n",
    "\n",
    "query2 = select([func.count(Flights.c.Dep_Delay_New)])\\\n",
    "        .where(Flights.c.Dep_Delay_New > 15)\n",
    "             \n",
    "result = conn.execute(query2)\n",
    "for row in result:\n",
    "    print(row)"
   ]
  },
  {
   "cell_type": "markdown",
   "metadata": {},
   "source": [
    "**Count the total number of flights delayed more than 15 minutes by Origin**"
   ]
  },
  {
   "cell_type": "code",
   "execution_count": 48,
   "metadata": {},
   "outputs": [
    {
     "name": "stdout",
     "output_type": "stream",
     "text": [
      "('ALB', 1)\n",
      "('ATL', 4)\n",
      "('AUS', 1)\n",
      "('AVL', 1)\n",
      "('BOS', 9)\n",
      "('BUR', 1)\n",
      "('CMH', 1)\n",
      "('DAL', 3)\n",
      "('DCA', 1)\n",
      "('DEN', 21)\n",
      "('DFW', 2)\n",
      "('EWR', 22)\n",
      "('FLL', 2)\n",
      "('HNL', 1)\n",
      "('IAD', 13)\n",
      "('IAH', 9)\n",
      "('JFK', 8)\n",
      "('LAS', 10)\n",
      "('LAX', 28)\n",
      "('LGA', 9)\n",
      "('MCO', 1)\n",
      "('MFR', 1)\n",
      "('MIA', 2)\n",
      "('MSP', 1)\n",
      "('MSY', 3)\n",
      "('OGG', 2)\n",
      "('ORD', 30)\n",
      "('PBI', 1)\n",
      "('PDX', 1)\n",
      "('PIT', 1)\n",
      "('RDU', 1)\n",
      "('ROC', 1)\n",
      "('SAN', 1)\n",
      "('SEA', 8)\n",
      "('SFO', 42)\n",
      "('SLC', 1)\n",
      "('SNA', 1)\n",
      "('TPA', 2)\n"
     ]
    }
   ],
   "source": [
    "from sqlalchemy import select\n",
    "from sqlalchemy.sql.expression import func\n",
    "\n",
    "#Count \n",
    "\n",
    "query3 = select([Flights.c.Origin, func.count(Flights.c.Dep_Delay_New)])\\\n",
    "        .where(Flights.c.Dep_Delay_New > 15)\\\n",
    "        .group_by(Flights.c.Origin)\n",
    "             \n",
    "result = conn.execute(query3)\n",
    "for row in result:\n",
    "    print(row)\n",
    "    \n"
   ]
  },
  {
   "cell_type": "markdown",
   "metadata": {},
   "source": [
    "**Join**\n"
   ]
  },
  {
   "cell_type": "code",
   "execution_count": 49,
   "metadata": {},
   "outputs": [],
   "source": []
  }
 ],
 "metadata": {
  "kernelspec": {
   "display_name": "Python 3",
   "language": "python",
   "name": "python3"
  },
  "language_info": {
   "codemirror_mode": {
    "name": "ipython",
    "version": 3
   },
   "file_extension": ".py",
   "mimetype": "text/x-python",
   "name": "python",
   "nbconvert_exporter": "python",
   "pygments_lexer": "ipython3",
   "version": "3.6.3"
  }
 },
 "nbformat": 4,
 "nbformat_minor": 2
}
