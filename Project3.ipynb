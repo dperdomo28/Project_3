{
 "cells": [
  {
   "cell_type": "markdown",
   "metadata": {},
   "source": [
    "# Project 3"
   ]
  },
  {
   "cell_type": "markdown",
   "metadata": {},
   "source": [
    "<b> Group members: </b>\n",
    "1.\tDianela Perdomo \n",
    "2.\tHendyel Pacheco\n",
    "3.\tLihe Liu\n",
    "4.\tPornpamol Pattamanont"
   ]
  },
  {
   "cell_type": "markdown",
   "metadata": {},
   "source": [
    "## Data:\n",
    "The data file for this problem set is here:\n",
    "```bash\n",
    "/ufrc/zoo6927/share/Class_Files/data/flights.May2017-Apr2018.csv \n",
    "```"
   ]
  },
  {
   "cell_type": "markdown",
   "metadata": {},
   "source": [
    "## Plan:\n",
    "1.\tTwo tables we are going to create are 1) delayed flights depart from GNV 2) distance of those flights with airlines. \n",
    "2.\tThe first table has 6 columns: FL_DATE /AIRLINE_ID (this will be the foreign key that we will add) / ORIGIN / ORIGIN_CITY_NAME / DEST / DEP_DEL15. The primary key in the first table is a number.\n",
    "3.\tThe second table is ‘Airlines table’ which has AIRLINE_ID / DISTANCE/ORIGIN_CITY_NAME / DEST. The key in this table is our foreign key in first table.\n",
    "4.\tWe use ‘join’ function to link between these 2 tables; where to check GNV in table 2.\n",
    "5.\tWe will analyze how many delayed flights each airline has, and organize from max to min.\n"
   ]
  },
  {
   "cell_type": "markdown",
   "metadata": {},
   "source": [
    "## Solution:"
   ]
  },
  {
   "cell_type": "markdown",
   "metadata": {},
   "source": [
    "<b> Create empty database: </b>"
   ]
  },
  {
   "cell_type": "code",
   "execution_count": null,
   "metadata": {},
   "outputs": [],
   "source": [
    "from sqlalchemy import create_engine\n",
    "from sqlalchemy import Table, Column, Integer, String, MetaData, ForeignKey\n",
    "from sqlalchemy import DateTime, Boolean\n",
    "\n",
    "# Create a sqlite database \n",
    "engine = create_engine('sqlite:///flights_pj3.sqlite')\n",
    "\n",
    "metadata=MetaData()\n",
    "Airports = Table ('Airports', metadata,\n",
    "                Column('Code', String, primary_key=True),\n",
    "                Column('FL_DATE', DateTime),\n",
    "                Column('AIRLINE_ID', Integer, autoincrement=True),\n",
    "                Column('ORIGIN', String),\n",
    "                Column('ORIGIN_CITY_NAME', String),\n",
    "                Column('DEST', String),\n",
    "                Column('DEP_DEL15', Boolean),\n",
    "               )\n",
    "Airlines = Table ('Airlines', metadata,\n",
    "                 Column('AIRLINE_ID', Integer, ForeignKey(\"Airports.AIRLINE_ID\")),\n",
    "                 Column('DISTANCE', Integer),\n",
    "                 Column('ORIGIN_CITY_NAME', String),\n",
    "                 Column('DEST', String),\n",
    "                 )\n",
    "metadata.create_all(engine)\n"
   ]
  },
  {
   "cell_type": "markdown",
   "metadata": {},
   "source": [
    "<b> Put the Flights data into dataframe: </b>"
   ]
  },
  {
   "cell_type": "code",
   "execution_count": null,
   "metadata": {},
   "outputs": [],
   "source": [
    "import csv\n",
    "flights=open(\"/ufrc/zoo6927/share/Class_Files/data/flights.May2017-Apr2018.csv\")\n",
    "\n",
    "reader = csv.DictReader(flights)\n",
    "for Line in reader:\n",
    "\n",
    "    ins=Airports.insert().values(FL_DATE=Line['FL_DATE'],AIRLINE_ID=Line['AIRLINE_ID'],\n",
    "                                ORIGIN=Line['ORIGIN'],ORIGIN_CITY_NAME=Line['ORIGIN_CITY_NAME'],DEST=Line['DEST'],\n",
    "                                DEP_DEL15 = Line['DEP_DEL15'])\n",
    "\n",
    "result = conn.execute(ins)"
   ]
  },
  {
   "cell_type": "code",
   "execution_count": null,
   "metadata": {},
   "outputs": [],
   "source": []
  }
 ],
 "metadata": {
  "kernelspec": {
   "display_name": "Python 3",
   "language": "python",
   "name": "python3"
  },
  "language_info": {
   "codemirror_mode": {
    "name": "ipython",
    "version": 3
   },
   "file_extension": ".py",
   "mimetype": "text/x-python",
   "name": "python",
   "nbconvert_exporter": "python",
   "pygments_lexer": "ipython3",
   "version": "3.6.3"
  }
 },
 "nbformat": 4,
 "nbformat_minor": 2
}
